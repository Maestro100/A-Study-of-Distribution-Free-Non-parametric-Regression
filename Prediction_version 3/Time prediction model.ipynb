{
 "cells": [
  {
   "cell_type": "code",
   "execution_count": 1,
   "metadata": {},
   "outputs": [],
   "source": [
    "import pandas as pd\n",
    "import numpy as np\n",
    "import datetime as dt\n",
    "from statsmodels.tsa.arima_model import ARIMA"
   ]
  },
  {
   "cell_type": "code",
   "execution_count": 2,
   "metadata": {},
   "outputs": [],
   "source": [
    "def prediction_5th_day(sample):\n",
    "    counts = sample\n",
    "    start = dt.datetime.strptime(\"1 Jan 20\", \"%d %b %y\")\n",
    "    daterange = pd.date_range(start, periods=7)\n",
    "    table = {\"count\": counts, \"date\": daterange}\n",
    "    data = pd.DataFrame(table)\n",
    "    data.set_index(\"date\", inplace=True)\n",
    "    order = (1, 2, 0)\n",
    "    model = ARIMA(data, order, freq='D')\n",
    "    model = model.fit()\n",
    "    temp = model.predict(2, 11, typ = 'levels')\n",
    "    return temp[-1]\n",
    "\n",
    "def prediction_10th_day(sample):\n",
    "    counts = sample\n",
    "    start = dt.datetime.strptime(\"1 Jan 20\", \"%d %b %y\")\n",
    "    daterange = pd.date_range(start, periods=7)\n",
    "    table = {\"count\": counts, \"date\": daterange}\n",
    "    data = pd.DataFrame(table)\n",
    "    data.set_index(\"date\", inplace=True)\n",
    "    order = (1, 2, 0)\n",
    "    model = ARIMA(data, order, freq='D')\n",
    "    model = model.fit()\n",
    "    temp = model.predict(2, 16, typ = 'levels')\n",
    "    return temp[-1]"
   ]
  },
  {
   "cell_type": "code",
   "execution_count": 3,
   "metadata": {},
   "outputs": [],
   "source": [
    "arr = np.load('TopCountriesData.npy')"
   ]
  },
  {
   "cell_type": "code",
   "execution_count": 14,
   "metadata": {},
   "outputs": [
    {
     "name": "stdout",
     "output_type": "stream",
     "text": [
      "Predicted 5th day:  13.050593452353349  \tOriginal:  13.497103357016877\n",
      "Predicted 10th day:  12.861460081782427  \tOriginal:  13.828830683574143\n"
     ]
    }
   ],
   "source": [
    "idx,nos = 4,76 #country id , day_number\n",
    "print('Predicted 5th day: ',prediction_5th_day(arr[idx,nos:nos+7]),' \\tOriginal: ',arr[idx,nos+12])\n",
    "print('Predicted 10th day: ',prediction_10th_day(arr[idx,nos:nos+7]),' \\tOriginal: ',arr[idx,nos+17])"
   ]
  },
  {
   "cell_type": "code",
   "execution_count": null,
   "metadata": {},
   "outputs": [],
   "source": []
  },
  {
   "cell_type": "code",
   "execution_count": null,
   "metadata": {},
   "outputs": [],
   "source": []
  },
  {
   "cell_type": "code",
   "execution_count": null,
   "metadata": {},
   "outputs": [],
   "source": []
  }
 ],
 "metadata": {
  "kernelspec": {
   "display_name": "Python 3",
   "language": "python",
   "name": "python3"
  },
  "language_info": {
   "codemirror_mode": {
    "name": "ipython",
    "version": 3
   },
   "file_extension": ".py",
   "mimetype": "text/x-python",
   "name": "python",
   "nbconvert_exporter": "python",
   "pygments_lexer": "ipython3",
   "version": "3.7.1"
  }
 },
 "nbformat": 4,
 "nbformat_minor": 2
}

{
 "cells": [
  {
   "cell_type": "code",
   "execution_count": 26,
   "metadata": {},
   "outputs": [],
   "source": [
    "#module import\n",
    "import numpy as np\n",
    "import pandas as pd\n",
    "import matplotlib.pyplot as plt"
   ]
  },
  {
   "cell_type": "code",
   "execution_count": 27,
   "metadata": {
    "scrolled": true
   },
   "outputs": [],
   "source": [
    "#data processing\n",
    "dataframe = pd.read_csv('train.csv',header=None)\n",
    "data = dataframe.iloc[:,[0,2]].values\n",
    "data = data[data[:,1]>0]\n",
    "x = data[:,0]\n",
    "y = np.log2(data[:,1])\n"
   ]
  },
  {
   "cell_type": "code",
   "execution_count": 28,
   "metadata": {},
   "outputs": [
    {
     "data": {
      "text/plain": [
       "83"
      ]
     },
     "execution_count": 28,
     "metadata": {},
     "output_type": "execute_result"
    }
   ],
   "source": [
    "x.shape[0]"
   ]
  },
  {
   "cell_type": "code",
   "execution_count": 29,
   "metadata": {},
   "outputs": [
    {
     "data": {
      "image/png": "[encoded data removed]",
      "text/plain": [
       "<Figure size 432x288 with 1 Axes>"
      ]
     },
     "metadata": {
      "needs_background": "light"
     },
     "output_type": "display_data"
    }
   ],
   "source": [
    "#original data plot\n",
    "plt.plot(x,y,label='original')\n",
    "plt.legend()\n",
    "plt.show()"
   ]
  },
  {
   "cell_type": "code",
   "execution_count": 30,
   "metadata": {},
   "outputs": [],
   "source": [
    "#do not touch this function\n",
    "def kernel_matrix_generator(x):\n",
    "    kernel_matrix = np.zeros(shape=(x.shape[0],x.shape[0]))\n",
    "    i=0\n",
    "    for x_i in x:\n",
    "        j=0\n",
    "        for x_j in x:\n",
    "            kernel_matrix[i,j] = kernel_formula(x_i,x_j)\n",
    "            j+=1\n",
    "        i+=1\n",
    "    return kernel_matrix\n",
    "\n",
    "#do not touch this function\n",
    "def solver(x,y,gamma):\n",
    "    kernel_matrix = kernel_matrix_generator(x)\n",
    "    A = gamma*(kernel_matrix.shape[0])*np.identity(kernel_matrix.shape[0])\n",
    "    A = np.add(A,kernel_matrix)\n",
    "    B=y\n",
    "    c = np.linalg.solve(A,B)\n",
    "    return c\n",
    "\n",
    "#do not touch this function\n",
    "def predictor(x_train,x_test,y_train,gamma):\n",
    "    c = solver(x_train,y_train,gamma)\n",
    "    output = np.zeros(shape=(x_test.shape[0]))\n",
    "    for j in range(x_test.shape[0]):\n",
    "        for i in range(x_train.shape[0]):\n",
    "            output[j]+=c[i]*kernel_formula(x_train[i],x_test[j])\n",
    "    return output"
   ]
  },
  {
   "cell_type": "code",
   "execution_count": 31,
   "metadata": {},
   "outputs": [
    {
     "data": {
      "image/png": "[encoded data removed]",
      "text/plain": [
       "<Figure size 432x288 with 1 Axes>"
      ]
     },
     "metadata": {
      "needs_background": "light"
     },
     "output_type": "display_data"
    }
   ],
   "source": [
    "def kernel_formula(x_i,x_j):\n",
    "    \n",
    "    #for the gaussian kernel uncomment it\n",
    "    '''\n",
    "    sigma = 2\n",
    "    gaussian = np.exp(-np.square(np.linalg.norm(x_i-x_j))/(2*sigma*sigma))\n",
    "    return gaussian\n",
    "    '''\n",
    "    \n",
    "    #for kernel in sir's paper\n",
    "    \n",
    "    w_1 = 0.852\n",
    "    w_2 = 10\n",
    "    w_3 = 0.64\n",
    "    return np.power(x_i*x_j,w_1)+w_2*np.exp(-w_3*np.square(x_i-x_j))\n",
    "    \n",
    "    \n",
    "    #sigmoid kernel\n",
    "    '''\n",
    "    w_1 = 0.00000002\n",
    "    w_2 = 0.002\n",
    "    return np.tanh(w_1*x_i*x_j+w_2)\n",
    "    '''\n",
    "    \n",
    "    \n",
    "    #sigmoid + gaussian\n",
    "    '''\n",
    "    sigma = 2\n",
    "    w_1 = 0.0000002\n",
    "    w_2 = 0.002\n",
    "    return np.exp(-np.square(np.linalg.norm(x_i-x_j))/(2*sigma*sigma)) + np.tanh(w_1*x_i*x_j+w_2)\n",
    "    '''\n",
    "    \n",
    "    #gaussian\n",
    "    '''\n",
    "    w_2 = 1.5\n",
    "    w_3 = 0.1\n",
    "    return w_2*np.exp(-w_3*np.square(x_i-x_j))\n",
    "    '''\n",
    "    \n",
    "    \n",
    "    #gaussian + sigmoid\n",
    "    '''\n",
    "    w_1 = 0.0002\n",
    "    b = 2000\n",
    "    w_2 = 0.8\n",
    "    w_3 = 0.1\n",
    "    return w_2*np.exp(-w_3*np.square(x_i-x_j))+(1-w_2)*np.tanh(w_1*x_i*x_j+b)\n",
    "    '''\n",
    "    \n",
    "    #exponential\n",
    "    '''\n",
    "    a = 500\n",
    "    r = abs(x_i-x_j)\n",
    "    b = -0.1\n",
    "    return a*np.exp(b*r)\n",
    "    '''\n",
    "\n",
    "\n",
    "#plot for both predicted and original curve\n",
    "#def predictor(x_train,x_test,y_train,gamma): \n",
    "#x[:60] - training for 59 days\n",
    "preds = predictor(x[:60],x,y[:60],0.01) #change the gamma value here - regularization parameter\n",
    "\n",
    "plt.plot(x,y,label='original')\n",
    "plt.plot(x,preds,label='predicted')\n",
    "plt.legend()\n",
    "plt.xlabel('No. of days')\n",
    "plt.ylabel('No. of deceased')\n",
    "plt.show()"
   ]
  },
  {
   "cell_type": "code",
   "execution_count": null,
   "metadata": {},
   "outputs": [],
   "source": []
  }
 ],
 "metadata": {
  "kernelspec": {
   "display_name": "Python 3",
   "language": "python",
   "name": "python3"
  },
  "language_info": {
   "codemirror_mode": {
    "name": "ipython",
    "version": 3
   },
   "file_extension": ".py",
   "mimetype": "text/x-python",
   "name": "python",
   "nbconvert_exporter": "python",
   "pygments_lexer": "ipython3",
   "version": "3.7.1"
  }
 },
 "nbformat": 4,
 "nbformat_minor": 2
}

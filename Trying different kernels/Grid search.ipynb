{
 "cells": [
  {
   "cell_type": "code",
   "execution_count": 7,
   "metadata": {},
   "outputs": [
    {
     "data": {
      "text/plain": [
       "'\\nAll in all you have to change 2 things:\\n1) define the kernel in kernel_formula function\\n2) change the value of gamma in the last block when calling predictor function\\n'"
      ]
     },
     "execution_count": 7,
     "metadata": {},
     "output_type": "execute_result"
    }
   ],
   "source": [
    "'''\n",
    "All in all you have to change 2 things:\n",
    "1) define the kernel in kernel_formula function\n",
    "2) change the value of gamma in the last block when calling predictor function\n",
    "'''"
   ]
  },
  {
   "cell_type": "code",
   "execution_count": 8,
   "metadata": {},
   "outputs": [],
   "source": [
    "#module import\n",
    "import numpy as np\n",
    "import pandas as pd\n",
    "import math  \n",
    "import matplotlib.pyplot as plt"
   ]
  },
  {
   "cell_type": "code",
   "execution_count": 9,
   "metadata": {
    "scrolled": true
   },
   "outputs": [],
   "source": [
    "#data processing\n",
    "dataframe = pd.read_csv('train.csv',header=None)\n",
    "data = dataframe.iloc[:,[0,2]].values\n",
    "x = data[:,0]\n",
    "y = data[:,1]"
   ]
  },
  {
   "cell_type": "code",
   "execution_count": 10,
   "metadata": {},
   "outputs": [
    {
     "data": {
      "image/png": "[encoded data removed]",
      "text/plain": [
       "<Figure size 432x288 with 1 Axes>"
      ]
     },
     "metadata": {
      "needs_background": "light"
     },
     "output_type": "display_data"
    }
   ],
   "source": [
    "#original data plot\n",
    "plt.plot(x,y,label='original')\n",
    "plt.legend()\n",
    "plt.show()"
   ]
  },
  {
   "cell_type": "code",
   "execution_count": 24,
   "metadata": {},
   "outputs": [],
   "source": [
    "#define kernel formula here. Only this function should be changed for different kernels and parameters\n",
    "def kernel_formula(x_i,x_j,w_1,w_2,w_3):\n",
    "    \n",
    "    #for the gaussian kernel uncomment it\n",
    "    '''\n",
    "    sigma = 2\n",
    "    gaussian = np.exp(-np.square(np.linalg.norm(x_i-x_j))/(2*sigma*sigma))\n",
    "    return gaussian\n",
    "    '''\n",
    "    \n",
    "#     #for kernel in sir's paper\n",
    "#     w_1 = 0.859\n",
    "#     w_2 = 5\n",
    "#     w_3 = 0.4\n",
    "    return np.power(x_i*x_j,w_1)+w_2*np.exp(-w_3*np.square(x_i-x_j))\n",
    "\n",
    "#do not touch this function\n",
    "def kernel_matrix_generator(x,w_1,w_2,w_3):\n",
    "    kernel_matrix = np.zeros(shape=(x.shape[0],x.shape[0]))\n",
    "    i=0\n",
    "    for x_i in x:\n",
    "        j=0\n",
    "        for x_j in x:\n",
    "            kernel_matrix[i,j] = kernel_formula(x_i,x_j,w_1,w_2,w_3)\n",
    "            j+=1\n",
    "        x+=1\n",
    "    return kernel_matrix\n",
    "\n",
    "#do not touch this function\n",
    "def predictor(x,y,gamma,w_1,w_2,w_3):\n",
    "    kernel_matrix = kernel_matrix_generator(x,w_1,w_2,w_3)\n",
    "    A = gamma*(kernel_matrix.shape[0])*np.identity(kernel_matrix.shape[0])\n",
    "    A = np.add(A,kernel_matrix)\n",
    "    B=y\n",
    "    c = np.linalg.solve(A,B)\n",
    "    #print(c)\n",
    "    output = np.zeros(shape=(B.shape[0]))\n",
    "    for j in range(B.shape[0]):\n",
    "        for i in range(B.shape[0]):\n",
    "            output[j]+=c[i]*kernel_formula(x[i],x[j],w_1,w_2,w_3)\n",
    "    return output\n",
    "\n",
    "def MSE(yT,yP):\n",
    "    N=len(yT)\n",
    "    if len(yT)!=len(yP):\n",
    "        print (len(yT))\n",
    "        return 1\n",
    "    s=0\n",
    "    for i in range(0,N):\n",
    "       s+=(yT[i]-yP[i])**2\n",
    "    return math.sqrt(s)"
   ]
  },
  {
   "cell_type": "code",
   "execution_count": 39,
   "metadata": {},
   "outputs": [
    {
     "name": "stdout",
     "output_type": "stream",
     "text": [
      "[1 2 3]\n"
     ]
    }
   ],
   "source": [
    "print(np.arange(1,4))"
   ]
  },
  {
   "cell_type": "code",
   "execution_count": 51,
   "metadata": {},
   "outputs": [
    {
     "name": "stdout",
     "output_type": "stream",
     "text": [
      "w1=  0.0001 w2=  0.0001 w3=  1.5000 gam=  1.0000 mse:  614486.8604\n",
      "w1=  0.0001 w2=  0.3001 w3=  1.5000 gam=  1.0000 mse:  611585.3037\n",
      "w1=  0.0001 w2=  0.6001 w3=  1.5000 gam=  1.0000 mse:  608690.7386\n",
      "w1=  0.0001 w2=  0.9001 w3=  1.5000 gam=  1.0000 mse:  605803.2695\n",
      "w1=  0.0001 w2=  1.2001 w3=  1.5000 gam=  1.0000 mse:  602923.0031\n",
      "w1=  0.0001 w2=  1.5001 w3=  1.5000 gam=  1.0000 mse:  600050.0477\n",
      "w1=  0.0001 w2=  1.8001 w3=  1.5000 gam=  1.0000 mse:  597184.5137\n",
      "w1=  0.0001 w2=  2.1001 w3=  1.5000 gam=  1.0000 mse:  594326.5135\n",
      "w1=  0.0001 w2=  2.4001 w3=  1.5000 gam=  1.0000 mse:  591476.1613\n",
      "w1=  0.0001 w2=  2.7001 w3=  1.5000 gam=  1.0000 mse:  588633.5737\n"
     ]
    },
    {
     "data": {
      "image/png": "[encoded data removed]",
      "text/plain": [
       "<Figure size 432x288 with 1 Axes>"
      ]
     },
     "metadata": {
      "needs_background": "light"
     },
     "output_type": "display_data"
    },
    {
     "name": "stdout",
     "output_type": "stream",
     "text": [
      "27.089409828186035\n"
     ]
    }
   ],
   "source": [
    "#plot for both predicted and original curve\n",
    "#for kernel in sir's paper\n",
    "#             w_1 = 0.859\n",
    "#             w_2 = 5\n",
    "#             w_3 = 0.4\n",
    "import time;\n",
    "ts = time.time()\n",
    "#w1=  0.0001 w2=  2.7001 w3=  1.5000 gam=  1.0000 mse:  588633.5737\n",
    "least= float('inf')\n",
    "for i in np.arange(0.0001,3,0.3):  #range of w_1\n",
    "    for j in np.arange (0.0001,3,0.3):   #range of w_2\n",
    "        for k in np.arange(0.0001,3,0.3):  #range of w_3\n",
    "            for l in np.arange(0.0001,3,0.3):  #range of gamma\n",
    "               currpreds=predictor(x,y,l,i,j,k)\n",
    "               curr=MSE(currpreds,y)\n",
    "               if curr<least:\n",
    "                    preds=currpreds\n",
    "                    least=curr\n",
    "                    w_1=i\n",
    "                    w_2=j\n",
    "                    w_3=k\n",
    "                    gam=l\n",
    "                    print(\"w1= % 5.4f w2= % 5.4f w3= % 5.4f gam= % 5.4f mse: % 5.4f\" %(w_1,w_2,w_3,gam,least))                    \n",
    "#preds = predictor(x,y,0.1,0.1,1,0.1) #change the gamma value here - regularization parameter\n",
    "#print (MSE(preds,y))\n",
    "plt.plot(x,y,label='original')\n",
    "plt.plot(x,preds,label='predicted')\n",
    "plt.legend()\n",
    "plt.xlabel('No. of days')\n",
    "plt.ylabel('No. of deceased')\n",
    "plt.show()\n",
    "te = time.time()\n",
    "print(te-ts)"
   ]
  },
  {
   "cell_type": "code",
   "execution_count": null,
   "metadata": {},
   "outputs": [],
   "source": []
  }
 ],
 "metadata": {
  "kernelspec": {
   "display_name": "Python 3",
   "language": "python",
   "name": "python3"
  },
  "language_info": {
   "codemirror_mode": {
    "name": "ipython",
    "version": 3
   },
   "file_extension": ".py",
   "mimetype": "text/x-python",
   "name": "python",
   "nbconvert_exporter": "python",
   "pygments_lexer": "ipython3",
   "version": "3.7.1"
  }
 },
 "nbformat": 4,
 "nbformat_minor": 2
}

{
 "cells": [
  {
   "cell_type": "code",
   "execution_count": 10,
   "metadata": {},
   "outputs": [],
   "source": [
    "#module import\n",
    "import numpy as np\n",
    "import pandas as pd\n",
    "import matplotlib.pyplot as plt\n",
    "import time\n",
    "import math\n",
    "from sklearn.metrics import mean_squared_error"
   ]
  },
  {
   "cell_type": "code",
   "execution_count": 11,
   "metadata": {},
   "outputs": [],
   "source": [
    "data_country = np.load('TopCountriesData.npy')\n",
    "c_values = np.load('c_values.npy')\n",
    "meta_params = np.array([[-2000,50],[-10000,200],[-2000,90]])"
   ]
  },
  {
   "cell_type": "code",
   "execution_count": 12,
   "metadata": {},
   "outputs": [],
   "source": [
    "dataframe = pd.read_csv('out.csv',header=None)\n",
    "data = dataframe.values\n",
    "meta_data = data[:,16:21]"
   ]
  },
  {
   "cell_type": "code",
   "execution_count": 13,
   "metadata": {},
   "outputs": [
    {
     "data": {
      "text/plain": [
       "(616, 5)"
      ]
     },
     "execution_count": 13,
     "metadata": {},
     "output_type": "execute_result"
    }
   ],
   "source": [
    "meta_data.shape"
   ]
  },
  {
   "cell_type": "code",
   "execution_count": 14,
   "metadata": {},
   "outputs": [
    {
     "data": {
      "text/plain": [
       "array([ 9.357552  ,  9.74986943,  9.99293834, 10.38046107, 10.68562484])"
      ]
     },
     "execution_count": 14,
     "metadata": {},
     "output_type": "execute_result"
    }
   ],
   "source": [
    "sample_y = data_country[0][52:57]\n",
    "sample_y"
   ]
  },
  {
   "cell_type": "code",
   "execution_count": 15,
   "metadata": {},
   "outputs": [],
   "source": [
    "def meta_predictor(x_train,x_test,c,w_1,w_2):\n",
    "    output=0\n",
    "    for i in range(x_train.shape[0]):\n",
    "        output+=c[i]*meta_kernel_formula(x_train[i],x_test,w_1,w_2)\n",
    "    return output\n",
    "\n",
    "def meta_kernel_formula(x_i,x_j,w_1,w_2):\n",
    "    temp = np.square(np.linalg.norm(x_i-x_j))\n",
    "    return w_1*np.exp(-w_2*temp)"
   ]
  },
  {
   "cell_type": "code",
   "execution_count": 16,
   "metadata": {},
   "outputs": [],
   "source": [
    "pred_w1 = meta_predictor(meta_data,sample_y,c_values[0],meta_params[0][0],meta_params[0][1])\n",
    "pred_w2 = meta_predictor(meta_data,sample_y,c_values[1],meta_params[1][0],meta_params[1][1])\n",
    "pred_w3 = meta_predictor(meta_data,sample_y,c_values[2],meta_params[2][0],meta_params[2][1])"
   ]
  },
  {
   "cell_type": "code",
   "execution_count": 17,
   "metadata": {},
   "outputs": [
    {
     "name": "stdout",
     "output_type": "stream",
     "text": [
      "0.0825089183198846 9.700712544264668e-07 1.8214168687655863e-05\n"
     ]
    }
   ],
   "source": [
    "print(pred_w1,pred_w2,pred_w3)"
   ]
  },
  {
   "cell_type": "code",
   "execution_count": 18,
   "metadata": {},
   "outputs": [
    {
     "data": {
      "text/plain": [
       "(616, 5)"
      ]
     },
     "execution_count": 18,
     "metadata": {},
     "output_type": "execute_result"
    }
   ],
   "source": [
    "meta_data.shape"
   ]
  },
  {
   "cell_type": "code",
   "execution_count": 19,
   "metadata": {},
   "outputs": [],
   "source": [
    "#do not touch this function\n",
    "def kernel_formula(x_i,x_j,w_1,w_2,w_3):\n",
    "    return np.power(x_i*x_j,w_1)+w_2*np.exp(-w_3*np.square(x_i-x_j))\n",
    "\n",
    "def kernel_matrix_generator(x,w_1,w_2,w_3):\n",
    "    kernel_matrix = np.zeros(shape=(x.shape[0],x.shape[0]))\n",
    "    i=0\n",
    "    for x_i in x:\n",
    "        j=0\n",
    "        for x_j in x:\n",
    "            kernel_matrix[i,j] = kernel_formula(x_i,x_j,w_1,w_2,w_3)\n",
    "            j+=1\n",
    "        i+=1\n",
    "    return kernel_matrix\n",
    "\n",
    "#do not touch this function\n",
    "def solver(x,y,gamma,w_1,w_2,w_3):\n",
    "    kernel_matrix = kernel_matrix_generator(x,w_1,w_2,w_3)\n",
    "    A = gamma*(kernel_matrix.shape[0])*np.identity(kernel_matrix.shape[0])\n",
    "    A = np.add(A,kernel_matrix)\n",
    "    B=y\n",
    "    c = np.linalg.solve(A,B)\n",
    "    return c\n",
    "\n",
    "#do not touch this function\n",
    "def predictor(x_train,x_test,y_train,gamma,w_1,w_2,w_3):\n",
    "    c = solver(x_train,y_train,gamma,w_1,w_2,w_3)\n",
    "    output = np.zeros(shape=(x_test.shape[0]))\n",
    "    for j in range(x_test.shape[0]):\n",
    "        for i in range(x_train.shape[0]):\n",
    "            output[j]+=c[i]*kernel_formula(x_train[i],x_test[j],w_1,w_2,w_3)\n",
    "    return output"
   ]
  },
  {
   "cell_type": "code",
   "execution_count": 20,
   "metadata": {},
   "outputs": [],
   "source": [
    "prediction_for_27_days = predictor(np.arange(1,6),np.arange(1,10),sample_y,0.001,pred_w1,pred_w2,pred_w3)"
   ]
  },
  {
   "cell_type": "code",
   "execution_count": 21,
   "metadata": {},
   "outputs": [
    {
     "data": {
      "text/plain": [
       "array([ 9.25282995,  9.79743109, 10.13074314, 10.37408628, 10.56685601,\n",
       "       10.72701636, 10.86432242, 10.98468215, 11.09195326])"
      ]
     },
     "execution_count": 21,
     "metadata": {},
     "output_type": "execute_result"
    }
   ],
   "source": [
    "prediction_for_27_days"
   ]
  },
  {
   "cell_type": "code",
   "execution_count": 22,
   "metadata": {},
   "outputs": [
    {
     "data": {
      "text/plain": [
       "array([ 8.24317398,  8.98013958,  9.357552  ,  9.74986943,  9.99293834,\n",
       "       10.38046107, 10.68562484, 10.97584797, 11.22219114, 11.45891921])"
      ]
     },
     "execution_count": 22,
     "metadata": {},
     "output_type": "execute_result"
    }
   ],
   "source": [
    "data_country[0][50:50+10]"
   ]
  },
  {
   "cell_type": "code",
   "execution_count": 24,
   "metadata": {},
   "outputs": [
    {
     "data": {
      "image/png": "[encoded data removed]",
      "text/plain": [
       "<Figure size 432x288 with 1 Axes>"
      ]
     },
     "metadata": {
      "needs_background": "light"
     },
     "output_type": "display_data"
    }
   ],
   "source": [
    "plt.plot(np.arange(1,10),data_country[0][50:50+9],label='original')\n",
    "plt.plot(np.arange(1,10),prediction_for_27_days,label='predicted')\n",
    "plt.legend()\n",
    "plt.xlabel('No. of days')\n",
    "plt.ylabel('No. of deceased')\n",
    "plt.show()"
   ]
  },
  {
   "cell_type": "code",
   "execution_count": null,
   "metadata": {},
   "outputs": [],
   "source": []
  }
 ],
 "metadata": {
  "kernelspec": {
   "display_name": "Python 3",
   "language": "python",
   "name": "python3"
  },
  "language_info": {
   "codemirror_mode": {
    "name": "ipython",
    "version": 3
   },
   "file_extension": ".py",
   "mimetype": "text/x-python",
   "name": "python",
   "nbconvert_exporter": "python",
   "pygments_lexer": "ipython3",
   "version": "3.7.6"
  }
 },
 "nbformat": 4,
 "nbformat_minor": 2
}

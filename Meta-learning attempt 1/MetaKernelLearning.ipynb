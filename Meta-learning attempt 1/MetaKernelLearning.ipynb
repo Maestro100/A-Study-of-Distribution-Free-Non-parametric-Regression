{
 "cells": [
  {
   "cell_type": "code",
   "execution_count": 8,
   "metadata": {},
   "outputs": [],
   "source": [
    "#module import\n",
    "import numpy as np\n",
    "import pandas as pd\n",
    "import matplotlib.pyplot as plt\n",
    "import time\n",
    "import math\n",
    "from sklearn.metrics import mean_squared_error\n",
    "from sklearn.mixture import GaussianMixture"
   ]
  },
  {
   "cell_type": "code",
   "execution_count": 9,
   "metadata": {},
   "outputs": [],
   "source": [
    "#data processing\n",
    "dataframe = pd.read_csv('out.csv',header=None)\n",
    "data = dataframe.values\n",
    "train_x = data[:,:20]\n",
    "y_w1 = data[:,21]\n",
    "y_w2 = data[:,22]\n",
    "y_w3 = data[:,23]\n",
    "y_gam = data[:,24]"
   ]
  },
  {
   "cell_type": "code",
   "execution_count": 10,
   "metadata": {},
   "outputs": [
    {
     "data": {
      "text/plain": [
       "(616, 20)"
      ]
     },
     "execution_count": 10,
     "metadata": {},
     "output_type": "execute_result"
    }
   ],
   "source": [
    "model = mixture.GaussianMixture(n_components=3, verbose=1)"
   ]
  },
  {
   "cell_type": "code",
   "execution_count": 11,
   "metadata": {},
   "outputs": [],
   "source": [
    "#do not touch this function\n",
    "def kernel_matrix_generator(x,w_1,w_2):\n",
    "    kernel_matrix = np.zeros(shape=(x.shape[0],x.shape[0]))\n",
    "    for i in range(x.shape[0]):\n",
    "        for j in range(x.shape[0]):\n",
    "            kernel_matrix[i,j] = kernel_formula(x[i],x[j],w_1,w_2)\n",
    "    return kernel_matrix\n",
    "\n",
    "#do not touch this function\n",
    "def solver(x,y,gamma,w_1,w_2):\n",
    "    kernel_matrix = kernel_matrix_generator(x,w_1,w_2)\n",
    "    A = gamma*(kernel_matrix.shape[0])*np.identity(kernel_matrix.shape[0])\n",
    "    A = np.add(A,kernel_matrix)\n",
    "    B = y\n",
    "    c = np.linalg.solve(A,B)\n",
    "    return c\n",
    "\n",
    "#do not touch this function\n",
    "def predictor(x_train,x_test,y_train,gamma,w_1,w_2):\n",
    "    c = solver(x_train,y_train,gamma,w_1,w_2)\n",
    "    output = np.zeros(shape=(x_test.shape[0]))\n",
    "    for j in range(x_test.shape[0]):\n",
    "        for i in range(x_train.shape[0]):\n",
    "            output[j]+=c[i]*kernel_formula(x_train[i],x_test[j],w_1,w_2)\n",
    "    return c,output\n",
    "\n",
    "#do not touch this function\n",
    "def kernel_formula(x_i,x_j,w_1,w_2):\n",
    "    temp = np.square(np.linalg.norm(x_i-x_j))\n",
    "    return w_1*np.exp(-w_2*temp)\n"
   ]
  },
  {
   "cell_type": "code",
   "execution_count": 12,
   "metadata": {},
   "outputs": [],
   "source": []
  },
  {
   "cell_type": "code",
   "execution_count": null,
   "metadata": {},
   "outputs": [],
   "source": []
  },
  {
   "cell_type": "code",
   "execution_count": 9,
   "metadata": {},
   "outputs": [],
   "source": [
    "c,preds = predictor(train_x,train_x,y_w2,0.00000001,1.2,1.3)"
   ]
  },
  {
   "cell_type": "code",
   "execution_count": 11,
   "metadata": {},
   "outputs": [
    {
     "data": {
      "text/plain": [
       "31.930226803294943"
      ]
     },
     "execution_count": 11,
     "metadata": {},
     "output_type": "execute_result"
    }
   ],
   "source": [
    "mse = mean_squared_error(preds, y_w2)\n",
    "mse"
   ]
  },
  {
   "cell_type": "code",
   "execution_count": null,
   "metadata": {},
   "outputs": [],
   "source": []
  }
 ],
 "metadata": {
  "kernelspec": {
   "display_name": "Python 3",
   "language": "python",
   "name": "python3"
  },
  "language_info": {
   "codemirror_mode": {
    "name": "ipython",
    "version": 3
   },
   "file_extension": ".py",
   "mimetype": "text/x-python",
   "name": "python",
   "nbconvert_exporter": "python",
   "pygments_lexer": "ipython3",
   "version": "3.7.6"
  }
 },
 "nbformat": 4,
 "nbformat_minor": 2
}

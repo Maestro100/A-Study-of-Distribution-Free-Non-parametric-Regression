{
 "cells": [
  {
   "cell_type": "code",
   "execution_count": 104,
   "metadata": {},
   "outputs": [],
   "source": [
    "#module import\n",
    "import numpy as np\n",
    "import pandas as pd\n",
    "import matplotlib.pyplot as plt\n",
    "import time\n",
    "import math\n",
    "from sklearn.metrics import mean_squared_error"
   ]
  },
  {
   "cell_type": "code",
   "execution_count": 105,
   "metadata": {},
   "outputs": [],
   "source": [
    "train_for_k_days = 7\n",
    "predict_for_k_days = 14"
   ]
  },
  {
   "cell_type": "code",
   "execution_count": 106,
   "metadata": {},
   "outputs": [],
   "source": [
    "data_country = np.load('TopCountriesData.npy')\n",
    "c_values = np.load('c_values.npy')\n",
    "meta_params = np.array([[10000,1],[10000,1],[10000,1]])"
   ]
  },
  {
   "cell_type": "code",
   "execution_count": 107,
   "metadata": {},
   "outputs": [],
   "source": [
    "dataframe = pd.read_csv('out.csv',header=None)\n",
    "data = dataframe.values\n",
    "meta_data = data[:,:7]"
   ]
  },
  {
   "cell_type": "code",
   "execution_count": 108,
   "metadata": {},
   "outputs": [
    {
     "name": "stdout",
     "output_type": "stream",
     "text": [
      "(325, 7) (3, 325)\n"
     ]
    }
   ],
   "source": [
    "print(meta_data.shape, c_values.shape)"
   ]
  },
  {
   "cell_type": "code",
   "execution_count": 109,
   "metadata": {},
   "outputs": [
    {
     "name": "stdout",
     "output_type": "stream",
     "text": [
      "[6.32192809 6.71424552 7.47573343 7.53915881 7.79441587 8.01122726\n",
      " 8.27146303] (7,)\n"
     ]
    }
   ],
   "source": [
    "sample_y = data_country[4][52:59]\n",
    "print(sample_y, sample_y.shape)"
   ]
  },
  {
   "cell_type": "code",
   "execution_count": 110,
   "metadata": {},
   "outputs": [],
   "source": [
    "def meta_predictor(x_train,x_test,c,w_1,w_2):\n",
    "    output=0\n",
    "    for i in range(x_train.shape[0]):\n",
    "        #print(c[i],meta_kernel_formula(x_train[i],x_test,w_1,w_2),c[i]*meta_kernel_formula(x_train[i],x_test,w_1,w_2))\n",
    "        output+=c[i]*meta_kernel_formula(x_train[i],x_test,w_1,w_2)\n",
    "    return output\n",
    "\n",
    "def meta_kernel_formula(x_i,x_j,w_1,w_2):\n",
    "    temp = np.square(np.linalg.norm(x_i-x_j))\n",
    "    return w_1*np.exp(-w_2*temp)"
   ]
  },
  {
   "cell_type": "code",
   "execution_count": 111,
   "metadata": {},
   "outputs": [
    {
     "data": {
      "text/plain": [
       "1.8554225883364055"
      ]
     },
     "execution_count": 111,
     "metadata": {},
     "output_type": "execute_result"
    }
   ],
   "source": [
    "pred_w1 = meta_predictor(meta_data,sample_y,c_values[0],meta_params[0][0],meta_params[0][1])\n",
    "pred_w1"
   ]
  },
  {
   "cell_type": "code",
   "execution_count": 112,
   "metadata": {},
   "outputs": [],
   "source": [
    "pred_w1 = meta_predictor(meta_data,sample_y,c_values[0],meta_params[0][0],meta_params[0][1])\n",
    "pred_w2 = meta_predictor(meta_data,sample_y,c_values[1],meta_params[1][0],meta_params[1][1])\n",
    "pred_w3 = meta_predictor(meta_data,sample_y,c_values[2],meta_params[2][0],meta_params[2][1])"
   ]
  },
  {
   "cell_type": "code",
   "execution_count": 113,
   "metadata": {},
   "outputs": [
    {
     "name": "stdout",
     "output_type": "stream",
     "text": [
      "1.8554225883364055 19.052306779724358 0.0033755061285508747\n"
     ]
    }
   ],
   "source": [
    "print(pred_w1,pred_w2,pred_w3)"
   ]
  },
  {
   "cell_type": "code",
   "execution_count": 90,
   "metadata": {},
   "outputs": [
    {
     "data": {
      "text/plain": [
       "(325, 7)"
      ]
     },
     "execution_count": 90,
     "metadata": {},
     "output_type": "execute_result"
    }
   ],
   "source": [
    "meta_data.shape"
   ]
  },
  {
   "cell_type": "code",
   "execution_count": 91,
   "metadata": {},
   "outputs": [],
   "source": [
    "#do not touch this function\n",
    "def kernel_formula(x_i,x_j,w_1,w_2,w_3):\n",
    "    return np.power(x_i*x_j,w_1)+w_2*np.exp(-w_3*np.square(x_i-x_j))\n",
    "\n",
    "def kernel_matrix_generator(x,w_1,w_2,w_3):\n",
    "    kernel_matrix = np.zeros(shape=(x.shape[0],x.shape[0]))\n",
    "    i=0\n",
    "    for x_i in x:\n",
    "        j=0\n",
    "        for x_j in x:\n",
    "            kernel_matrix[i,j] = kernel_formula(x_i,x_j,w_1,w_2,w_3)\n",
    "            j+=1\n",
    "        i+=1\n",
    "    return kernel_matrix\n",
    "\n",
    "#do not touch this function\n",
    "def solver(x,y,gamma,w_1,w_2,w_3):\n",
    "    kernel_matrix = kernel_matrix_generator(x,w_1,w_2,w_3)\n",
    "    A = gamma*(kernel_matrix.shape[0])*np.identity(kernel_matrix.shape[0])\n",
    "    A = np.add(A,kernel_matrix)\n",
    "    B=y\n",
    "    c = np.linalg.solve(A,B)\n",
    "    return c\n",
    "\n",
    "#do not touch this function\n",
    "def predictor(x_train,x_test,y_train,gamma,w_1,w_2,w_3):\n",
    "    c = solver(x_train,y_train,gamma,w_1,w_2,w_3)\n",
    "    output = np.zeros(shape=(x_test.shape[0]))\n",
    "    for j in range(x_test.shape[0]):\n",
    "        for i in range(x_train.shape[0]):\n",
    "            output[j]+=c[i]*kernel_formula(x_train[i],x_test[j],w_1,w_2,w_3)\n",
    "    return output"
   ]
  },
  {
   "cell_type": "code",
   "execution_count": null,
   "metadata": {},
   "outputs": [],
   "source": []
  },
  {
   "cell_type": "code",
   "execution_count": 92,
   "metadata": {},
   "outputs": [
    {
     "name": "stdout",
     "output_type": "stream",
     "text": [
      "[6.3496985  6.81730927 7.22969981 7.579571   7.86184664 8.07366899\n",
      " 8.21437001 8.28537787 8.29005381 8.2334656  8.12211016 7.96360045\n",
      " 7.76633327 7.53915479]\n",
      "[6.32192809 6.71424552 7.47573343 7.53915881 7.79441587 8.01122726\n",
      " 8.27146303]\n"
     ]
    }
   ],
   "source": [
    "prediction_for_27_days = predictor(np.arange(1,train_for_k_days+1),np.arange(1,predict_for_k_days+1),sample_y,0.001,pred_w1,pred_w2,pred_w3)\n",
    "print(prediction_for_27_days)\n",
    "print(data_country[4][52:59])"
   ]
  },
  {
   "cell_type": "code",
   "execution_count": 93,
   "metadata": {},
   "outputs": [
    {
     "data": {
      "image/png": "[encoded data removed]",
      "text/plain": [
       "<Figure size 432x288 with 1 Axes>"
      ]
     },
     "metadata": {
      "needs_background": "light"
     },
     "output_type": "display_data"
    }
   ],
   "source": [
    "plt.plot(np.arange(1,predict_for_k_days+1),data_country[4][50:50+predict_for_k_days],label='original')\n",
    "plt.plot(np.arange(1,predict_for_k_days+1),prediction_for_27_days,label='predicted')\n",
    "plt.legend()\n",
    "plt.xlabel('No. of days')\n",
    "plt.ylabel('No. of deceased')\n",
    "plt.show()"
   ]
  },
  {
   "cell_type": "code",
   "execution_count": 17,
   "metadata": {},
   "outputs": [
    {
     "data": {
      "text/plain": [
       "array([1, 2, 3, 4, 5, 6, 7])"
      ]
     },
     "execution_count": 17,
     "metadata": {},
     "output_type": "execute_result"
    }
   ],
   "source": [
    "np.arange(1,train_for_k_days+1)"
   ]
  },
  {
   "cell_type": "code",
   "execution_count": 32,
   "metadata": {},
   "outputs": [
    {
     "data": {
      "text/plain": [
       "72.36448477945919"
      ]
     },
     "execution_count": 32,
     "metadata": {},
     "output_type": "execute_result"
    }
   ],
   "source": [
    "np.sum(data_country[0][52:59])"
   ]
  },
  {
   "cell_type": "code",
   "execution_count": 33,
   "metadata": {},
   "outputs": [
    {
     "data": {
      "text/plain": [
       "10.337142857142856"
      ]
     },
     "execution_count": 33,
     "metadata": {},
     "output_type": "execute_result"
    }
   ],
   "source": [
    "72.36/7"
   ]
  },
  {
   "cell_type": "code",
   "execution_count": 71,
   "metadata": {
    "scrolled": true
   },
   "outputs": [
    {
     "data": {
      "text/plain": [
       "array([ 1.14942524e-07,  1.14942524e-07,  1.14942524e-07,  1.14942524e-07,\n",
       "        8.99997075e-05,  9.99996750e-06,  1.29999578e-04,  9.99996324e-06,\n",
       "        4.99998374e-05,  1.69635518e-04,  8.99030165e-05,  7.59172454e-05,\n",
       "        4.98781589e-05,  1.14942524e-07,  1.14942524e-07,  1.14942524e-07,\n",
       "        1.14942524e-07,  1.14942524e-07,  5.66666053e-05,  9.99996750e-06,\n",
       "        9.99996750e-06,  4.99998375e-05,  4.99998375e-05,  9.99996750e-06,\n",
       "        1.69999448e-04,  4.85949765e-05,  1.14942525e-07, -1.84614835e+01,\n",
       "       -1.23076623e+01, -1.23076623e+01,  2.46154146e+01,  9.99996750e-06,\n",
       "        9.99996750e-06,  8.99997069e-05,  8.99997061e-05,  4.99998372e-05,\n",
       "        1.69923908e-04,  1.69999447e-04,  4.99989741e-05,  1.14942525e-07,\n",
       "        1.14942525e-07,  1.14942525e-07,  1.14942525e-07,  1.14942525e-07,\n",
       "        1.69999448e-04,  1.29999578e-04,  1.29999578e-04,  1.29999576e-04,\n",
       "        4.99241896e-05,  8.96703835e-05,  6.10694754e-05,  8.34441703e-05,\n",
       "        9.99996750e-06,  4.99998375e-05, -1.84615201e+01,  1.84615568e+01,\n",
       "        1.69999281e-04,  8.99997075e-05,  1.69999448e-04,  8.99997075e-05,\n",
       "        1.69999448e-04,  4.99998375e-05,  1.64187800e-04,  5.92731248e-05,\n",
       "        1.63493777e-04,  1.14942525e-07,  1.14942525e-07,  1.14942525e-07,\n",
       "        1.14942525e-07,  1.14942525e-07,  5.66666053e-05,  1.69999448e-04,\n",
       "        1.29999578e-04,  9.99996750e-06,  8.99997061e-05,  9.99968627e-06,\n",
       "        1.29931294e-04,  4.88394055e-05,  1.14942525e-07,  1.14942525e-07,\n",
       "        1.14942525e-07,  1.14942525e-07,  1.14942525e-07,  1.84615935e+01,\n",
       "        9.99996750e-06,  9.99996750e-06,  9.99996750e-06,  1.69993253e-04,\n",
       "        8.42125519e-05,  1.47799696e-04,  1.64591997e-04,  1.14942525e-07,\n",
       "        1.14942525e-07,  1.14942525e-07,  1.14942525e-07,  1.14942525e-07,\n",
       "        4.99998375e-05,  1.69997582e-04,  1.69999448e-04,  1.29999578e-04,\n",
       "        8.99887113e-05,  1.69999448e-04,  9.99996540e-06,  1.60789451e-04,\n",
       "        4.99998375e-05,  1.69999430e-04,  8.99997075e-05,  1.69955605e-04,\n",
       "        1.69955598e-04,  9.99996750e-06,  9.99996750e-06,  8.99997075e-05,\n",
       "        4.99998375e-05,  4.99918374e-05,  8.99635543e-05,  9.99996748e-06,\n",
       "        1.09332348e-04,  8.99997075e-05,  9.99996750e-06,  9.96801736e-06,\n",
       "        1.12835365e-04,  1.12835365e-04,  1.69999448e-04,  4.99998154e-05,\n",
       "        4.99998375e-05,  1.69999052e-04,  1.29674495e-04,  7.02002565e-05,\n",
       "        5.87659317e-05,  8.15985525e-05,  1.14942525e-07,  9.99996750e-06,\n",
       "       -1.84615201e+01, -1.84615201e+01,  1.84615568e+01,  1.69999281e-04,\n",
       "        4.99998375e-05,  1.69999448e-04,  8.99997075e-05,  8.99997075e-05,\n",
       "        9.99995649e-06,  4.05078207e-05,  4.98230303e-05,  1.14942525e-07,\n",
       "        1.14942525e-07,  1.14942525e-07,  1.14942525e-07,  1.14942525e-07,\n",
       "        1.23077573e+01,  9.99996750e-06,  9.99996750e-06,  1.69999448e-04,\n",
       "        1.69999448e-04,  8.99997074e-05,  4.88853923e-05,  1.59817917e-05,\n",
       "        1.14942525e-07,  1.14942525e-07,  1.14942525e-07,  1.14942525e-07,\n",
       "        9.99996750e-06,  4.99998375e-05,  9.99762597e-06,  8.99975352e-05,\n",
       "        1.14571312e-04,  3.38111852e-05,  8.99997075e-05,  4.99347030e-05,\n",
       "        4.99998375e-05,  1.14942525e-07,  1.14942525e-07,  1.14942525e-07,\n",
       "        1.14942525e-07,  1.14942525e-07,  1.69999448e-04,  1.69999448e-04,\n",
       "        1.29999578e-04,  9.99985719e-06,  8.99997074e-05,  1.29998118e-04,\n",
       "        8.57402972e-05,  1.69614952e-04,  1.14942525e-07,  1.14942525e-07,\n",
       "        1.14942525e-07,  1.14942525e-07,  5.66666053e-05,  1.29999578e-04,\n",
       "        9.99996750e-06,  1.69999448e-04,  1.29999577e-04,  1.29235264e-04,\n",
       "        8.32250747e-05,  4.61116450e-05,  7.60005690e-05,  1.14942525e-07,\n",
       "        4.99998375e-05,  1.69999448e-04,  1.84615568e+01,  8.99997075e-05,\n",
       "        1.29999574e-04,  1.29999578e-04,  1.69999052e-04,  4.91420202e-05,\n",
       "        1.61387069e-04,  5.87659317e-05,  6.56077505e-05,  8.99997075e-05,\n",
       "        9.99996750e-06,  1.29999578e-04,  1.69890840e-04,  9.99996750e-06,\n",
       "        1.29999578e-04,  1.69999448e-04,  8.99997075e-05,  1.29999578e-04,\n",
       "        1.69999448e-04,  1.69993678e-04,  1.29807109e-04,  1.29999575e-04,\n",
       "        7.89671024e-05,  1.69999448e-04,  8.99997075e-05,  8.97942213e-05,\n",
       "        1.69999448e-04,  1.29999578e-04,  8.99997075e-05,  2.41919169e-05,\n",
       "        8.99970816e-05,  8.98734185e-05,  4.97625733e-05,  4.63601664e-05,\n",
       "        1.60190040e-05,  3.78576397e-05,  1.14942525e-07,  1.14942525e-07,\n",
       "        1.14942525e-07,  1.14942525e-07,  1.14942525e-07,  1.69999448e-04,\n",
       "        1.69999430e-04,  9.99996750e-06,  4.99998375e-05,  1.69999448e-04,\n",
       "        9.31198543e-06,  3.88238980e-05,  8.74770001e-05,  1.14942525e-07,\n",
       "        1.14942525e-07,  1.14942525e-07,  1.14942525e-07,  1.14942525e-07,\n",
       "        9.99996750e-06,  1.69999448e-04,  8.99997075e-05,  1.69784289e-04,\n",
       "        1.69825363e-04,  8.93091354e-05,  1.29999578e-04,  8.99997075e-05,\n",
       "        1.14942525e-07,  1.14942525e-07,  1.14942525e-07,  1.14942525e-07,\n",
       "        1.14942525e-07,  9.99996750e-06,  1.69999448e-04,  9.99996750e-06,\n",
       "        1.69999448e-04,  1.29999577e-04,  5.34510198e-06,  1.29994254e-04,\n",
       "        3.90522906e-05,  1.14942525e-07,  1.14942525e-07,  1.14942525e-07,\n",
       "        1.14942525e-07,  1.14942525e-07,  1.14942525e-07,  9.99996750e-06,\n",
       "        1.29999578e-04,  4.99998375e-05,  1.69999448e-04,  1.29942286e-04,\n",
       "        9.99968707e-06,  8.93973403e-05,  1.14942525e-07,  1.14942525e-07,\n",
       "        1.14942525e-07,  1.14942525e-07,  1.14942525e-07,  1.14942525e-07,\n",
       "        1.69999448e-04,  1.29999578e-04,  8.99997075e-05,  8.99996106e-05,\n",
       "        7.85289131e-05,  1.58039148e-04,  6.96946091e-05,  1.14942525e-07,\n",
       "        1.14942525e-07,  1.14942525e-07,  1.14942525e-07,  1.14942525e-07,\n",
       "       -1.23076273e+01,  1.69999448e-04,  9.99996750e-06,  9.99994419e-06,\n",
       "        1.69999310e-04,  1.22091846e-04,  1.69907363e-04,  4.99820946e-05,\n",
       "        1.14942525e-07,  1.14942525e-07,  1.14942525e-07,  1.14942525e-07,\n",
       "        1.14942525e-07,  1.29999578e-04,  1.69999448e-04,  8.99997075e-05,\n",
       "        1.69999448e-04,  8.99997075e-05,  1.69999447e-04,  1.69998809e-04,\n",
       "        1.69592598e-04])"
      ]
     },
     "execution_count": 71,
     "metadata": {},
     "output_type": "execute_result"
    }
   ],
   "source": [
    "c_values[0]"
   ]
  },
  {
   "cell_type": "code",
   "execution_count": 65,
   "metadata": {},
   "outputs": [
    {
     "data": {
      "text/plain": [
       "array([0., 0., 0., 0., 0., 0., 0.])"
      ]
     },
     "execution_count": 65,
     "metadata": {},
     "output_type": "execute_result"
    }
   ],
   "source": [
    "meta_data[0]"
   ]
  },
  {
   "cell_type": "code",
   "execution_count": 66,
   "metadata": {},
   "outputs": [
    {
     "data": {
      "text/plain": [
       "array([6.32192809, 6.71424552, 7.47573343, 7.53915881, 7.79441587,\n",
       "       8.01122726, 8.27146303])"
      ]
     },
     "execution_count": 66,
     "metadata": {},
     "output_type": "execute_result"
    }
   ],
   "source": [
    "sample_y"
   ]
  },
  {
   "cell_type": "code",
   "execution_count": 68,
   "metadata": {},
   "outputs": [
    {
     "data": {
      "text/plain": [
       "391.123155076038"
      ]
     },
     "execution_count": 68,
     "metadata": {},
     "output_type": "execute_result"
    }
   ],
   "source": [
    "np.square(np.linalg.norm(sample_y-meta_data[0]))"
   ]
  },
  {
   "cell_type": "code",
   "execution_count": 69,
   "metadata": {},
   "outputs": [
    {
     "data": {
      "text/plain": [
       "0.0"
      ]
     },
     "execution_count": 69,
     "metadata": {},
     "output_type": "execute_result"
    }
   ],
   "source": [
    "10000*np.exp(-100*np.square(np.linalg.norm(sample_y-meta_data[0])))"
   ]
  },
  {
   "cell_type": "code",
   "execution_count": null,
   "metadata": {},
   "outputs": [],
   "source": [
    "temp = np.square(np.linalg.norm(x_i-x_j))\n",
    "w_1*np.exp(-w_2*temp)"
   ]
  }
 ],
 "metadata": {
  "kernelspec": {
   "display_name": "Python 3",
   "language": "python",
   "name": "python3"
  },
  "language_info": {
   "codemirror_mode": {
    "name": "ipython",
    "version": 3
   },
   "file_extension": ".py",
   "mimetype": "text/x-python",
   "name": "python",
   "nbconvert_exporter": "python",
   "pygments_lexer": "ipython3",
   "version": "3.7.1"
  }
 },
 "nbformat": 4,
 "nbformat_minor": 2
}

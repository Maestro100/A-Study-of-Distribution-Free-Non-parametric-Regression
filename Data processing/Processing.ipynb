{
 "cells": [
  {
   "cell_type": "code",
   "execution_count": 2,
   "metadata": {},
   "outputs": [],
   "source": [
    "#module import\n",
    "import numpy as np\n",
    "import pandas as pd\n",
    "import matplotlib.pyplot as plt\n",
    "import time\n",
    "import math"
   ]
  },
  {
   "cell_type": "code",
   "execution_count": 3,
   "metadata": {
    "scrolled": true
   },
   "outputs": [],
   "source": [
    "dataframe = pd.read_csv('FinalPro1.csv')\n",
    "dataframe['ConfirmedCases']+=1\n",
    "dataframe['log_value'] = np.log2(dataframe['ConfirmedCases'])\n",
    "data = dataframe.iloc[:,[6]].values\n",
    "output = np.reshape(data,(56,102))"
   ]
  },
  {
   "cell_type": "code",
   "execution_count": 20,
   "metadata": {},
   "outputs": [],
   "source": [
    "temp = sorted(output,reverse=True,key=lambda x: x[-1])"
   ]
  },
  {
   "cell_type": "code",
   "execution_count": 27,
   "metadata": {},
   "outputs": [],
   "source": [
    "np.save('TopCountriesDataReverseSorted.npy', temp) # save"
   ]
  },
  {
   "cell_type": "code",
   "execution_count": 28,
   "metadata": {},
   "outputs": [],
   "source": [
    "arr = np.load('TopCountriesDataReverseSorted.npy') # load"
   ]
  },
  {
   "cell_type": "code",
   "execution_count": 47,
   "metadata": {},
   "outputs": [],
   "source": [
    "Country_Name = []\n",
    "Country_Name.append([\"New York, US\"])\n",
    "Country_Name.append([\"Spain\"])\n",
    "Country_Name.append([\"Italy\"])\n",
    "Country_Name.append([\"United Kingdom\"])\n",
    "Country_Name.append([\"France\"])\n",
    "Country_Name.append([\"Germany\"])\n",
    "Country_Name.append([\"Turkey\"])\n",
    "Country_Name.append([\"Russia\"])\n",
    "Country_Name.append([\"New Jersey, US\"])\n",
    "Country_Name.append([\"Brazil\"])\n",
    "Country_Name.append([\"Iran\"])\n",
    "Country_Name.append([\"Massachusetts, US\"])\n",
    "Country_Name.append([\"Illinois, US\"])\n",
    "Country_Name.append([\"California, US\"])\n",
    "Country_Name.append([\"Pennysylvania, US\"])\n",
    "Country_Name.append([\"Belgium\"])\n",
    "Country_Name.append([\"Michigan, US\"])\n",
    "Country_Name.append([\"Peru\"])\n",
    "Country_Name.append([\"Netherlands\"])\n",
    "Country_Name.append([\"India\"])\n",
    "Country_Name.append([\"Florida, US\"])\n",
    "Country_Name.append([\"Texas, US\"])\n",
    "Country_Name.append([\"Switzerland\"])\n",
    "Country_Name.append([\"Quebec, Canada\"])\n",
    "Country_Name.append([\"Connecticut, US\"])\n",
    "Country_Name.append([\"Louisiana, US\"])\n",
    "Country_Name.append([\"Georgia, US\"])\n",
    "Country_Name.append([\"Ecuador\"])\n",
    "Country_Name.append([\"Saudi Arabia\"])\n",
    "Country_Name.append([\"Portugal\"])\n",
    "Country_Name.append([\"Maryland, US\"])\n",
    "Country_Name.append([\"Mexico\"])\n",
    "Country_Name.append([\"Sweden\"])\n",
    "Country_Name.append([\"Ireland\"])\n",
    "Country_Name.append([\"Ohio, US\"])\n",
    "Country_Name.append([\"Indiana, US\"])\n",
    "Country_Name.append([\"Pakistan\"])\n",
    "Country_Name.append([\"Chile\"])\n",
    "Country_Name.append([\"Ontario, Canada\"])\n",
    "Country_Name.append([\"Virginia, US\"])\n",
    "Country_Name.append([\"Singapore\"])\n",
    "Country_Name.append([\"Colorado, US\"])\n",
    "Country_Name.append([\"Israel\"])\n",
    "Country_Name.append([\"Belarus\"])\n",
    "Country_Name.append([\"Austria\"])\n",
    "Country_Name.append([\"Washington, US\"])\n",
    "Country_Name.append([\"Qatar\"])\n",
    "Country_Name.append([\"Japan\"])\n",
    "Country_Name.append([\"United Arab Emirates\"])\n",
    "Country_Name.append([\"Poland\"])\n",
    "Country_Name.append([\"Romania\"])\n",
    "Country_Name.append([\"Tennessee, US\"])\n",
    "Country_Name.append([\"North Carolina, US\"])\n",
    "Country_Name.append([\"Ukraine\"])\n",
    "Country_Name.append([\"Indonesia\"])\n",
    "Country_Name.append([\"Korea, South\"])"
   ]
  },
  {
   "cell_type": "code",
   "execution_count": 53,
   "metadata": {},
   "outputs": [],
   "source": [
    "np.save('Country_names.npy', Country_Name) # save"
   ]
  },
  {
   "cell_type": "code",
   "execution_count": 54,
   "metadata": {},
   "outputs": [],
   "source": [
    "lssi = np.load('Country_names.npy')"
   ]
  }
 ],
 "metadata": {
  "kernelspec": {
   "display_name": "Python 3",
   "language": "python",
   "name": "python3"
  },
  "language_info": {
   "codemirror_mode": {
    "name": "ipython",
    "version": 3
   },
   "file_extension": ".py",
   "mimetype": "text/x-python",
   "name": "python",
   "nbconvert_exporter": "python",
   "pygments_lexer": "ipython3",
   "version": "3.7.1"
  }
 },
 "nbformat": 4,
 "nbformat_minor": 2
}
